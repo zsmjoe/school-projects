{
 "cells": [
  {
   "cell_type": "markdown",
   "metadata": {},
   "source": [
    "<center>\n",
    "<h1>Do financial statements influence stock prices</h1>\n",
    "<h2>The case of Goldman Sachs</h2>\n",
    "</center>"
   ]
  },
  {
   "cell_type": "markdown",
   "metadata": {},
   "source": [
    "   #   Group member\n",
    "\n",
    "### ZHOU shiming            \n",
    "### Caspar MOSER"
   ]
  },
  {
   "cell_type": "markdown",
   "metadata": {},
   "source": [
    "<h2 id=\"df\">Introduction</h2>\n",
    "\n",
    "We are interested in the short term effect a financial statement published by a company has on the companies stock price. We use a multiple linear regression model similar to the model proposed by <a href=\"#ref\">Patell [1976]</a>.\n",
    "\n",
    "Our data consists of daily stock price changes of the banking institution Goldman Sachs and the KBW index, an index of the thirty biggest banks in the United States over a given period of time. Note that Goldman Sachs is not part of it. Furthermore, we add a dummy variable that indicates for any date during the time interval wether or not GS published a certain type of financial statement on that date. We end up with a data frame with three variables in <i>n</i> dates. We then regress the daily stock price change of Goldman and Sachs on the change of the KBW index and on the dummy. As opposed to <a href=\"#ref\">Patell [1976]</a> we use daily changes instead of weekly changes, we do not regress on a constant (doing so would lead to coefficient near zero) and we ignore dividend payouts. "
   ]
  },
  {
   "cell_type": "markdown",
   "metadata": {},
   "source": [
    "## Plan\n",
    "\n",
    "1) Data acquiring\n",
    "- Scrapping of the stock prices\n",
    "- Data cleaning and index change\n",
    "- Creation of the approximate percentage change variable\n",
    "- Scrapping of the financial statements\n",
    "- Data processing for the prepration of the regression\n",
    "\n",
    "2) Analysis\n",
    "- Regression using statsmodels\n",
    "- Explanation of procedure\n",
    "- Discussion of results\n",
    "\n",
    "3) Visualization\n",
    "- Plotting using seaborn\n",
    "- Interpretation"
   ]
  },
  {
   "cell_type": "code",
   "execution_count": 1,
   "metadata": {},
   "outputs": [
    {
     "name": "stderr",
     "output_type": "stream",
     "text": [
      "/Users/joe/anaconda/lib/python3.6/site-packages/statsmodels/compat/pandas.py:56: FutureWarning: The pandas.core.datetools module is deprecated and will be removed in a future version. Please use the pandas.tseries module instead.\n",
      "  from pandas.core import datetools\n"
     ]
    }
   ],
   "source": [
    "#some useful packages\n",
    "import requests\n",
    "import re\n",
    "import pandas as pd\n",
    "import json\n",
    "from pandas import DataFrame as df\n",
    "\n",
    "import datetime\n",
    "from datetime import date\n",
    "from datetime import datetime\n",
    "import time\n",
    "\n",
    "import numpy as np\n",
    "import matplotlib.pyplot as plt\n",
    "import math\n",
    "import statsmodels.api as sm\n",
    "\n",
    "import seaborn as sns\n",
    "import matplotlib.patches as mpatches\n",
    "import matplotlib.axes"
   ]
  },
  {
   "cell_type": "markdown",
   "metadata": {},
   "source": [
    "## 1) Data acquring\n",
    "\n",
    "We used two different website to scrap our data from.\n",
    "\n",
    "The first one is <a href=\"http://www.goldmansachs.com/investor-relations/financials/archived\">Goldman Sachs Financials</a>. On this page the bank lists all of its financial statements with their respective publication dates since 1999. Furthermore it is possible to only show certain types of financial statements. This detailed representation does not seem to be, according to our findings, very common. Other companies do not show publication dates on their websites. This is the main reason why we chose to analyse Goldman Sachs.\n",
    "\n",
    "The second one is <a href=\"https://finance.yahoo.com\">Yahoo! Finance</a>. Here we scrapped the daily closing prices of Goldman Sachs in the KBW index over a give period of time. \n",
    "\n",
    "### Scrapping of the stock prices\n",
    "\n",
    "First of all, we get all the data that we need from the website of yahoo finance.\n",
    "We choose to use the package of request to get the inital text data and we use the package re to interpret the content and store all the information that we need into a list. The function <i>date_to_seconds</i>, which uses the datetime and the time package, allows us to scrap the information not only for any company or index but also any time period (supposing that data is available) from Yahoo! Finance. Later on we will restrict ourselves on Goldman Sachs in the KBW index. \n",
    "\n"
   ]
  },
  {
   "cell_type": "code",
   "execution_count": 2,
   "metadata": {},
   "outputs": [],
   "source": [
    "def date_to_seconds(x):\n",
    "    t = datetime.strptime(x, '%Y-%m-%d')\n",
    "    u = time.mktime(t.timetuple())\n",
    "    v = int(u)\n",
    "    return v\n",
    "\n",
    "def retrieve_quotes_historical(stock_code, t1, t2):\n",
    "    date1 = date_to_seconds(t1)\n",
    "    date2 = date_to_seconds(t2)\n",
    "    quotes = []\n",
    "    r = requests.get('https://finance.yahoo.com/quote/{0}/history?period1={1}&period2={2}&interval=1d&filter=history&frequency=1d'.format(*[stock_code, date1, date2]))\n",
    "    m = re.findall('\"HistoricalPriceStore\":{\"prices\":(.*?),\"isPending\"', r.text)\n",
    "    if m :\n",
    "        quotes = json.loads(m[0])\n",
    "        quotes = quotes[::-1]\n",
    "    return [item for item in quotes if not 'type' in item]"
   ]
  },
  {
   "cell_type": "markdown",
   "metadata": {},
   "source": [
    "### Data cleaning and index change\n",
    "In a second step we get rid of unneccessary variables and transform the index of our data frame(s) to the corresponding dates, using the package datetime. We change the date to seconds and the transform it to the form we want to use which is \"yyyy-mm-dd\"."
   ]
  },
  {
   "cell_type": "code",
   "execution_count": 3,
   "metadata": {
    "collapsed": true
   },
   "outputs": [],
   "source": [
    "def rewrite_quotes(stock_code, t1, t2):\n",
    "    quotes = retrieve_quotes_historical(stock_code, t1, t2)\n",
    "    list1 = []\n",
    "    for i in range(len(quotes)):\n",
    "        x = date.fromtimestamp(quotes[i]['date'])\n",
    "        y = date.strftime(x,'%Y-%m-%d')\n",
    "        list1.append(y)\n",
    "    quotesdf_ori = df(quotes, index = list1)\n",
    "    quotes = quotesdf_ori.drop(['open','high','low','volume','adjclose','date'], axis = 1)\n",
    "    return quotes"
   ]
  },
  {
   "cell_type": "markdown",
   "metadata": {},
   "source": [
    "### Creation of the approximate percentage change variable\n",
    "\n",
    "We rewrote the closing price of both GS and KBW to get the approximate percentage change to the day before using the following formula:\n",
    "\n",
    "\n",
    "<center><h5>approximate percentage change on date t = log(closing price on date t / closing price on date t-1)</h5>.</center>"
   ]
  },
  {
   "cell_type": "code",
   "execution_count": 4,
   "metadata": {
    "collapsed": true
   },
   "outputs": [],
   "source": [
    "def cal_divide_one_day(x):\n",
    "    #returns for a numpy array the corresponding values of the formula\n",
    "    close_divide2 = []\n",
    "    close_divide = np.array(x)\n",
    "    for i in range(len(close_divide)-1):\n",
    "        close_divide2.append(math.log(close_divide[i+1]/close_divide[i]))\n",
    "    close_divide2.insert(0,0)    #on the first date we define the change as 0\n",
    "    return close_divide2\n",
    "\n",
    "def regression_prep(stock_code, t1, t2):\n",
    "    D = rewrite_quotes(stock_code, t1, t2)\n",
    "    D['percentage_change'] = cal_divide_one_day(D.close) #here we create the new variable using the function above\n",
    "    F = D.drop('close', axis=1)\n",
    "    return F"
   ]
  },
  {
   "cell_type": "markdown",
   "metadata": {},
   "source": [
    "### Scrapping of the financial statements\n",
    "We still need a dummy variable which indicates for any date if GS published a financial statement. In this function we first get the data from yahoo! finance, only to get the exact all the dates. We used the KBW index for no specific reason. The Goldman Sachs stock would have done the job too. Then, we scrap from the Goldman Sachs website all dates in the form that we need. The way the page is build, this corresponds only to the dates where a financial statement is published. Then we create a list with the length of the KBW dataframe and elements, where all elements are zero. Then we change an argument in the list to one, if the argument at the same position of the KBW dataframe index is also on the website. This way we get the dummy variable we need. The function reutrns a dataframe with the date index and the dummy variable.  Note, that we introduce a new argument, the type argument. To be more specific, this is the type of financial statement. The following types are published on the websites:\n",
    "\n",
    "- 'quarterly-earnings-releases'\n",
    "- 'annual-reports'\n",
    "- 'proxy-statements'\n",
    "- '10k'\n",
    "- '10q'\n",
    "- '8k'\n",
    "- '8k-exhibits'\n",
    "- 'subsidiary-financial-info/gsi'\n",
    "- 'subsidiary-financial-info/gsec'\n",
    "- 'subsidiary-financial-info/gsco'\n",
    "- 'subsidiary-financial-info/gsbank-usa'\n",
    "- 'subsidiary-financial-info/gsib'\n",
    "- 'subsidiary-financial-info/other'\n",
    "- 'other-information'\n",
    "- 'xblr'"
   ]
  },
  {
   "cell_type": "code",
   "execution_count": 5,
   "metadata": {
    "collapsed": true
   },
   "outputs": [],
   "source": [
    "def retrieve_reports_for_dummy(type, t1, t2):\n",
    "    KBW = regression_prep('^BKX', t1, t2)\n",
    "    url = 'http://www.goldmansachs.com/investor-relations/financials/archived/%s/index.html'%(type)\n",
    "    m = requests.get(url)\n",
    "    a_list = re.findall('<time datetime=\"(.*?)\">',m.text)\n",
    "    a = np.array(a_list)\n",
    "    b_list = []\n",
    "    for i in range(len(KBW)):\n",
    "        b_list.append(0)\n",
    "    for i in range(len(a)):\n",
    "        for j in range(len(KBW)):\n",
    "            if a[i] in KBW.index[j]:\n",
    "                b_list[j] = 1\n",
    "    b = np.array(b_list)\n",
    "    D = df(index = KBW.index)\n",
    "    D['dummy'] = b\n",
    "    return D"
   ]
  },
  {
   "cell_type": "markdown",
   "metadata": {},
   "source": [
    "### Data processing for the prepration of the regression\n",
    "In a last step of our first part we actually srcap the data for Goldman Sachs and KBW, as well as the dummy and create a new data frame containing all three variables. We call them 'GS_change' for the change of the Goldman Sachs stock, 'KBW_change' for the change of the index and 'dummy' for the dummy vairable. Also we drop all dates with missing values which is neccessary for the regression."
   ]
  },
  {
   "cell_type": "code",
   "execution_count": 6,
   "metadata": {
    "collapsed": true
   },
   "outputs": [],
   "source": [
    "def regression_prep_2(type, t1, t2):\n",
    "    GS = regression_prep('GS', t1, t2)\n",
    "    KBW = regression_prep('^BKX', t1, t2)\n",
    "    D = retrieve_reports_for_dummy(type, t1, t2)\n",
    "    D['GS_change'] = GS.percentage_change\n",
    "    D['KBW_change'] = KBW.percentage_change\n",
    "    D = D.dropna()\n",
    "    return D"
   ]
  },
  {
   "cell_type": "markdown",
   "metadata": {},
   "source": [
    "## 2) Analysis\n",
    "At this point we are ready to perform the regression.\n",
    "### Regression using statsmodels\n",
    "We use the package statsmodels. We get our dataframe with the function <i>regression_prep_2</i>. Then, we split it into a dataframe X containing the two predicting variables 'KBW_change' and 'dummy' and a dataframe y containing the variable we want to regress, 'GS_change'. Then we use the function sm.OLS() to perform the regression. Then, we call the summary of our results to get a clear table, with all values we are interested in. "
   ]
  },
  {
   "cell_type": "code",
   "execution_count": 7,
   "metadata": {
    "collapsed": true
   },
   "outputs": [],
   "source": [
    "def regression(type='quarterly-earnings-releases', t1='2010-01-01', t2='2016-12-31'):\n",
    "    D = regression_prep_2(type, t1, t2)\n",
    "    target = D.GS_change\n",
    "    predict = D.drop('GS_change', axis=1)\n",
    "    y = pd.DataFrame(target)\n",
    "    X = predict\n",
    "    model = sm.OLS(y, X)\n",
    "    results = model.fit()\n",
    "    return results.summary(title='Regression of GS_change on KBW_change and dummy')"
   ]
  },
  {
   "cell_type": "markdown",
   "metadata": {},
   "source": [
    "### Explanation of procedure\n",
    "\n",
    "In our regression function we use three variables, the type of financial statement and the starting and ending dates. The possible type arguments are listed in the part <b><i>scrapping of financial statements</i></b>. Possible time periods can start much earlier than 1999, but since financial statement publications on the website of Goldman Sachs only date back to 1999 it would not make sense to pick a date before 1999. It is worth noting that not all types are available since 1999. This has to be taken into account when picking a time period. We set as default values for our funtion the time span from January 1<sup>st</sup> 2010 until December 31<sup>st</sup> 2016 and the type quarterly earnings releases. The name 'quarterly earnings releases' is rather self explanatory. One of these statements is about ten pages long and summarizes Goldman Sachs' performance over the preceding 3 months and compares to figures of the year before. The information is clearly presented; we suppose that investors can easily retrieve the information and react to it quickly.\n",
    "During our period of seven years, 28 quarterly earnings releases were published. We assume that the markets reaction on such a statement depends on the true information. However, investors cannot observe the absolute true information. They read the statement and observe the given information as well as a certain tone that we expect to be influential to a certain degree. Their decision is formed both by the given information and by the tone of the statement.\n",
    "A possible third derterminant of investors decision making could be assumptions the investor makes about stock price developement, following the publication of a statement, that are independent of the content of the statement."
   ]
  },
  {
   "cell_type": "code",
   "execution_count": 8,
   "metadata": {},
   "outputs": [
    {
     "data": {
      "text/html": [
       "<table class=\"simpletable\">\n",
       "<caption>Regression of GS_change on KBW_change and dummy</caption>\n",
       "<tr>\n",
       "  <th>Dep. Variable:</th>        <td>GS_change</td>    <th>  R-squared:         </th>  <td>   0.624</td> \n",
       "</tr>\n",
       "<tr>\n",
       "  <th>Model:</th>                   <td>OLS</td>       <th>  Adj. R-squared:    </th>  <td>   0.624</td> \n",
       "</tr>\n",
       "<tr>\n",
       "  <th>Method:</th>             <td>Least Squares</td>  <th>  F-statistic:       </th>  <td>   1460.</td> \n",
       "</tr>\n",
       "<tr>\n",
       "  <th>Date:</th>             <td>Thu, 04 Jan 2018</td> <th>  Prob (F-statistic):</th>   <td>  0.00</td>  \n",
       "</tr>\n",
       "<tr>\n",
       "  <th>Time:</th>                 <td>13:33:46</td>     <th>  Log-Likelihood:    </th>  <td>  5510.9</td> \n",
       "</tr>\n",
       "<tr>\n",
       "  <th>No. Observations:</th>      <td>  1759</td>      <th>  AIC:               </th> <td>-1.102e+04</td>\n",
       "</tr>\n",
       "<tr>\n",
       "  <th>Df Residuals:</th>          <td>  1757</td>      <th>  BIC:               </th> <td>-1.101e+04</td>\n",
       "</tr>\n",
       "<tr>\n",
       "  <th>Df Model:</th>              <td>     2</td>      <th>                     </th>      <td> </td>    \n",
       "</tr>\n",
       "<tr>\n",
       "  <th>Covariance Type:</th>      <td>nonrobust</td>    <th>                     </th>      <td> </td>    \n",
       "</tr>\n",
       "</table>\n",
       "<table class=\"simpletable\">\n",
       "<tr>\n",
       "       <td></td>         <th>coef</th>     <th>std err</th>      <th>t</th>      <th>P>|t|</th>  <th>[0.025</th>    <th>0.975]</th>  \n",
       "</tr>\n",
       "<tr>\n",
       "  <th>dummy</th>      <td>   -0.0064</td> <td>    0.002</td> <td>   -3.226</td> <td> 0.001</td> <td>   -0.010</td> <td>   -0.003</td>\n",
       "</tr>\n",
       "<tr>\n",
       "  <th>KBW_change</th> <td>    0.8650</td> <td>    0.016</td> <td>   54.037</td> <td> 0.000</td> <td>    0.834</td> <td>    0.896</td>\n",
       "</tr>\n",
       "</table>\n",
       "<table class=\"simpletable\">\n",
       "<tr>\n",
       "  <th>Omnibus:</th>       <td>439.792</td> <th>  Durbin-Watson:     </th> <td>   1.960</td>\n",
       "</tr>\n",
       "<tr>\n",
       "  <th>Prob(Omnibus):</th> <td> 0.000</td>  <th>  Jarque-Bera (JB):  </th> <td>9411.796</td>\n",
       "</tr>\n",
       "<tr>\n",
       "  <th>Skew:</th>          <td>-0.633</td>  <th>  Prob(JB):          </th> <td>    0.00</td>\n",
       "</tr>\n",
       "<tr>\n",
       "  <th>Kurtosis:</th>      <td>14.261</td>  <th>  Cond. No.          </th> <td>    8.03</td>\n",
       "</tr>\n",
       "</table>"
      ],
      "text/plain": [
       "<class 'statsmodels.iolib.summary.Summary'>\n",
       "\"\"\"\n",
       "               Regression of GS_change on KBW_change and dummy                \n",
       "==============================================================================\n",
       "Dep. Variable:              GS_change   R-squared:                       0.624\n",
       "Model:                            OLS   Adj. R-squared:                  0.624\n",
       "Method:                 Least Squares   F-statistic:                     1460.\n",
       "Date:                Thu, 04 Jan 2018   Prob (F-statistic):               0.00\n",
       "Time:                        13:33:46   Log-Likelihood:                 5510.9\n",
       "No. Observations:                1759   AIC:                        -1.102e+04\n",
       "Df Residuals:                    1757   BIC:                        -1.101e+04\n",
       "Df Model:                           2                                         \n",
       "Covariance Type:            nonrobust                                         \n",
       "==============================================================================\n",
       "                 coef    std err          t      P>|t|      [0.025      0.975]\n",
       "------------------------------------------------------------------------------\n",
       "dummy         -0.0064      0.002     -3.226      0.001      -0.010      -0.003\n",
       "KBW_change     0.8650      0.016     54.037      0.000       0.834       0.896\n",
       "==============================================================================\n",
       "Omnibus:                      439.792   Durbin-Watson:                   1.960\n",
       "Prob(Omnibus):                  0.000   Jarque-Bera (JB):             9411.796\n",
       "Skew:                          -0.633   Prob(JB):                         0.00\n",
       "Kurtosis:                      14.261   Cond. No.                         8.03\n",
       "==============================================================================\n",
       "\n",
       "Warnings:\n",
       "[1] Standard Errors assume that the covariance matrix of the errors is correctly specified.\n",
       "\"\"\""
      ]
     },
     "execution_count": 8,
     "metadata": {},
     "output_type": "execute_result"
    }
   ],
   "source": [
    "regression()"
   ]
  },
  {
   "cell_type": "markdown",
   "metadata": {
    "collapsed": true
   },
   "source": [
    "### Discussion of results\n",
    "Our model consists of 1759 observations. Note that weekends and national holidays are not included. The R<sup>2</sup> is 62.4 %. This is the ratio of the variance that our model can explain. As the P-value of our F-test is given as 0.00, we can reject at a 5 % significance level the Null hypothesis that KBW_change and dummy do not overall influence GS_change.\n",
    "Let us look at the the P-values of the given coefficients. Both are below 0.05, so we can reject in both cases the null hypothesis that the variable does not influence GS-change on a 5 % significance level. The KBW_change coefficient has value of 0.8650. This means, that, when no quarterly earnings release is published, a 1 % change of the KBW index leads to 0.865 % change of the stock price of Goldman Sachs. The dummy coefficient has a value of -0.0064. So the average percentage change of the Goldman Sachs stock price on publication days is 0.64 percentage points smaller compared to regular days, were no quarterly earnings release is published.\n",
    "So over the years 2010 to 2016 the publication of a quarterly earnings release had on average a negative effect on the stock price. How can we interpret this result?\n",
    "A first explanation could be, quite intuitively, that this effect follows in general a negative trend.\n",
    "Another explanation could be that the result is due to pure coincidence.\n",
    "Our data is far from optimal. We only analyze one company and we only analyze it during a specific time period. We do not have a random sample. As a result we cannot simply conclude that with a probability of 95 % the true value of the effect is in the confidence interval given in our results. To see this one can simply change the starting date to '2000-01-01'. The result will be a regression were we cannot reject the null hypothesis on a 5% significance level anymore. \n",
    "Another disadvantage is that we have a very small treatment group (if we say that the treatment is the publication of a quarterly earnings release), while we have a very large non-treatment group."
   ]
  },
  {
   "cell_type": "markdown",
   "metadata": {},
   "source": [
    "## 3)  Visualization\n",
    "### Plotting using seaborn\n",
    "We visualize our results by plotting a simple linear regression using only KBW_change as explanatory variable, while excluding the publication days from our data. In a second step we plot these excluded observations in a different colour."
   ]
  },
  {
   "cell_type": "code",
   "execution_count": 9,
   "metadata": {
    "collapsed": true
   },
   "outputs": [],
   "source": [
    "sns.set(color_codes=True)\n",
    "def plotreg(type='quarterly-earnings-releases', t1='2010-01-01', t2='2016-12-31'):\n",
    "    D = regression_prep_2(type, t1, t2)\n",
    "    X = D[D.dummy != 1] #exclude publication days\n",
    "    Y = D[D.dummy != 0] #exclude non-punblication days\n",
    "    sns.regplot(x='KBW_change', y='GS_change', data=X, color = 'b')\n",
    "    plt.scatter(Y.KBW_change, Y.GS_change, color = 'red')\n",
    "    red_Patch = mpatches.Patch(color = 'red', label = 'days of publication', alpha=0.7)\n",
    "    b_Patch = mpatches.Patch(color = 'b', label = 'regular days')\n",
    "    plt.legend(handles =[b_Patch,red_Patch])\n",
    "    plt.xlabel('relative stock price change for KBW (logarithmic)')\n",
    "    plt.ylabel('relative stock price change for GS (logarithmic)')\n",
    "    return plt.show()"
   ]
  },
  {
   "cell_type": "code",
   "execution_count": 10,
   "metadata": {
    "scrolled": false
   },
   "outputs": [
    {
     "data": {
      "image/png": "[encoded data removed]",
      "text/plain": [
       "<matplotlib.figure.Figure at 0x1d8b3d63f28>"
      ]
     },
     "metadata": {},
     "output_type": "display_data"
    }
   ],
   "source": [
    "plotreg()"
   ]
  },
  {
   "cell_type": "markdown",
   "metadata": {},
   "source": [
    "### Interpretation\n",
    "The regression line has a positive slope with a parameter below one. It is visible, that the majority of the red dots lies below the regression line. One outlier is situated well above the line. This accords well with the results of our regression. "
   ]
  },
  {
   "cell_type": "markdown",
   "metadata": {},
   "source": [
    "## Conclusion\n",
    "We were interested in the reaction of investors to the publication of a financial statement. We found out that, that during the years 2010 to 2016 the publication of a quarterly earnings release from the banking institution Goldman Sachs had a negative effect on its stock price. Due to the biasedness of our sample, we cannot conclude that the publication of a quarterly earnings release has in general a negative effect on the stock price of the company. The explanatory variables in our model can explain close to two thirds of the variance of the stock price change."
   ]
  },
  {
   "cell_type": "markdown",
   "metadata": {},
   "source": [
    "## Bibliography:\n",
    "<a href='http://www.jstor.org/stable/2490543?casa_token=jWpN9IjGOgEAAAAA:RJhCtcE5BU_iZ_GMhs7rraznLTl7YnUCE0NyaANLvoyOrJ8MCCqAJqf4wnlk2gme5PkHUguVysfv0bkn56IhHBgj0--gijnTfh2eH0TsV5mxY27OcQ', id=\"ref\">Patell, James M. \"Corporate forecasts of earnings per share and stock price behavior: Empirical test.\" Journal of accounting research (1976): 246-276.</a>"
   ]
  },
  {
   "cell_type": "markdown",
   "metadata": {},
   "source": [
    "## Contributions\n",
    "\n",
    "### ZHOU Shiming : most part of the data scrapping and one part of the visualization\n",
    "\n",
    "### Caspar MOSER: most part of the data processing and one part of the visualization"
   ]
  }
 ],
 "metadata": {
  "anaconda-cloud": {},
  "kernelspec": {
   "display_name": "Python 3",
   "language": "python",
   "name": "python3"
  },
  "language_info": {
   "codemirror_mode": {
    "name": "ipython",
    "version": 3
   },
   "file_extension": ".py",
   "mimetype": "text/x-python",
   "name": "python",
   "nbconvert_exporter": "python",
   "pygments_lexer": "ipython3",
   "version": "3.6.1"
  }
 },
 "nbformat": 4,
 "nbformat_minor": 1
}
